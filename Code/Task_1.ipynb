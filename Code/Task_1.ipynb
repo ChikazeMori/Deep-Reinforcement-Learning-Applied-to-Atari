{
 "cells": [
  {
   "cell_type": "code",
   "execution_count": 1,
   "metadata": {},
   "outputs": [],
   "source": [
    "# import the py file and library\n",
    "from environment import environment\n",
    "import numpy as np"
   ]
  },
  {
   "cell_type": "code",
   "execution_count": 2,
   "metadata": {},
   "outputs": [
    {
     "name": "stdout",
     "output_type": "stream",
     "text": [
      "# # # # # # # # # # # \n",
      "# G . . G # . . . . # \n",
      "# . # # . # . # # . # \n",
      "# . # . . . . . # . # \n",
      "# . # . # # # . # . # \n",
      "# . . . . . . . . . # \n",
      "# . # . # # # . # . # \n",
      "# . # . . . . . # . # \n",
      "# . # # P # . # # . # \n",
      "# . A . . # . . . G # \n",
      "# # # # # # # # # # # \n",
      "\n"
     ]
    }
   ],
   "source": [
    "# create an environment and display it\n",
    "env = environment(n_ghosts=3,p=0.5,random_env=False)\n",
    "env.reset()\n",
    "env.display()"
   ]
  },
  {
   "cell_type": "code",
   "execution_count": 3,
   "metadata": {
    "scrolled": true
   },
   "outputs": [
    {
     "name": "stdout",
     "output_type": "stream",
     "text": [
      "# # # # # # # # # # # \n",
      "# G . . G # . . . . # \n",
      "# . # # . # . # # . # \n",
      "# . # . . . . . # . # \n",
      "# . # . # # # . # . # \n",
      "# . . . . . . . . . # \n",
      "# . # . # # # . # . # \n",
      "# . # . . . . . # . # \n",
      "# . # # A # . # # . # \n",
      "# . .     # . G . . # \n",
      "# # # # # # # # # # # \n",
      "\n",
      "reward: 19\n"
     ]
    }
   ],
   "source": [
    "# move the agent manually and get the powerpill\n",
    "state,reward,done = env.step('right')\n",
    "state,reward,done = env.step('right')\n",
    "state,reward,done = env.step('up')\n",
    "env.display()\n",
    "print('reward:',reward)\n",
    "\n",
    "# reward is 19 because the agent gets 20 rewards by eating the powerpill and lose 1 reward from one timestep"
   ]
  }
 ],
 "metadata": {
  "kernelspec": {
   "display_name": "Python 3",
   "language": "python",
   "name": "python3"
  },
  "language_info": {
   "codemirror_mode": {
    "name": "ipython",
    "version": 3
   },
   "file_extension": ".py",
   "mimetype": "text/x-python",
   "name": "python",
   "nbconvert_exporter": "python",
   "pygments_lexer": "ipython3",
   "version": "3.8.3"
  }
 },
 "nbformat": 4,
 "nbformat_minor": 4
}
